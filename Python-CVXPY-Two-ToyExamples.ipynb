{
 "cells": [
  {
   "cell_type": "markdown",
   "metadata": {},
   "source": [
    "# TWO TOY EXAMPLES - CVXPY (ECOS)\n",
    "\n",
    "**authors:** Jozef Hanč, Martina Hančová  \n",
    "P. J. Šafárik University in Košice, Slovakia  \n",
    "<jozef.hanc@upjs.sk>\n",
    "\n",
    " \n",
    "### **Using Python CVXPY language, solver ECOS**\n",
    "\n",
    "http://www.cvxpy.org  \n",
    "**Ref.** DIAMOND, S. and BOYD, S., 2016. CVXPY: A Python-Embedded Modeling Language for Convex Optimization.  \n",
    "In: Journal of Machine Learning Research, Vol. 17, No. 83, s. 1–5.  \n",
    "AGRAWAL, A. et al (2018). A rewriting system for convex optimization problems. Journal of Control and Decision, 5(1), 42–60. \n",
    "\n",
    "**version of CVXPY:** 1.0.1  \n",
    "**version of Python:** 2.7.14"
   ]
  },
  {
   "cell_type": "markdown",
   "metadata": {},
   "source": [
    "##  1. High School Toy Example - Finding minimum of a simple convex  quadratic function\n",
    "\n",
    "**Problem:** Find a minimum for the following quadratic function over $\\mathbb{R}^+_0$:\n",
    ">$f(x) = a x^2+b x+c, \\\\ a = 24, b = -227, c = 13934$"
   ]
  },
  {
   "cell_type": "code",
   "execution_count": 5,
   "metadata": {
    "ExecuteTime": {
     "end_time": "2018-09-23T13:29:01.187000Z",
     "start_time": "2018-09-23T13:29:01.180000Z"
    }
   },
   "outputs": [],
   "source": [
    "# Importing real number division\n",
    "from __future__ import print_function\n",
    "from __future__ import division"
   ]
  },
  {
   "cell_type": "markdown",
   "metadata": {},
   "source": [
    "### Analytic solution"
   ]
  },
  {
   "cell_type": "code",
   "execution_count": 6,
   "metadata": {
    "ExecuteTime": {
     "end_time": "2018-09-23T13:32:04.460000Z",
     "start_time": "2018-09-23T13:32:04.450000Z"
    },
    "scrolled": true
   },
   "outputs": [
    {
     "name": "stdout",
     "output_type": "stream",
     "text": [
      "Analytic solution = 4.72916666667\n"
     ]
    }
   ],
   "source": [
    "# Using the high school formula x=-b/2a for the parabola vertex \n",
    "a, b = 24, -227\n",
    "xv = -b/(2*a)\n",
    "x0 = c\n",
    "\n",
    "# Results\n",
    "if xv<0:\n",
    "    print('Analytic solution =', x0)\n",
    "else:\n",
    "    print('Analytic solution =', xv)"
   ]
  },
  {
   "cell_type": "code",
   "execution_count": 7,
   "metadata": {
    "ExecuteTime": {
     "end_time": "2018-09-23T13:32:18.483000Z",
     "start_time": "2018-09-23T13:32:18.469000Z"
    }
   },
   "outputs": [
    {
     "name": "stdout",
     "output_type": "stream",
     "text": [
      "SymPy exact analytic solution = 227/48 = 4.72916666666667\n",
      "Optimal value = 1190135/96 = 12397.2395833333\n"
     ]
    }
   ],
   "source": [
    "# Using SymPy - exact analytic solution\n",
    "import sympy as sp\n",
    "\n",
    "# Construct the problem\n",
    "x = sp.var('x')\n",
    "a, b, c = 24, -227, 12934\n",
    "f = a*x**2 + b*x + c\n",
    "\n",
    "# Solve the problem (via zero derivative)\n",
    "dfdx = sp.diff(f,x)\n",
    "xe = sp.solve(dfdx,x)[0]\n",
    "\n",
    "# Results\n",
    "print('SymPy exact analytic solution =', xe,'=', xe.n())\n",
    "print('Optimal value =', f.subs(x,xe), '=', f.subs(x,xe).n())"
   ]
  },
  {
   "cell_type": "markdown",
   "metadata": {},
   "source": [
    "### CVXPY solution"
   ]
  },
  {
   "cell_type": "code",
   "execution_count": 9,
   "metadata": {
    "ExecuteTime": {
     "end_time": "2018-09-23T13:33:16.534000Z",
     "start_time": "2018-09-23T13:33:16.530000Z"
    }
   },
   "outputs": [],
   "source": [
    "from cvxpy import *\n",
    "import numpy as np"
   ]
  },
  {
   "cell_type": "code",
   "execution_count": 10,
   "metadata": {
    "ExecuteTime": {
     "end_time": "2018-09-23T13:33:40.341000Z",
     "start_time": "2018-09-23T13:33:40.305000Z"
    }
   },
   "outputs": [
    {
     "name": "stdout",
     "output_type": "stream",
     "text": [
      "\n",
      "ECOS 2.0.4 - (C) embotech GmbH, Zurich Switzerland, 2012-15. Web: www.embotech.com/ECOS\n",
      "\n",
      "It     pcost       dcost      gap   pres   dres    k/t    mu     step   sigma     IR    |   BT\n",
      " 0  +0.000e+000  -4.513e+001  +2e+002  5e-001  4e-001  1e+000  8e+001    ---    ---    1  1  - |  -  - \n",
      " 1  -2.820e+002  -2.875e+002  +8e+000  1e-001  1e-001  5e+000  3e+000  0.9654  5e-004   2  2  2 |  0  0\n",
      " 2  -5.161e+002  -5.084e+002  +8e-001  2e-002  4e-002  1e+001  3e-001  0.9193  1e-002   2  2  2 |  0  0\n",
      " 3  -5.272e+002  -5.265e+002  +1e-001  3e-003  4e-003  1e+000  4e-002  0.8582  1e-002   2  2  2 |  0  0\n",
      " 4  -5.369e+002  -5.369e+002  +7e-003  2e-004  2e-004  4e-002  3e-003  0.9486  1e-002   1  1  1 |  0  0\n",
      " 5  -5.368e+002  -5.368e+002  +2e-004  5e-006  6e-006  1e-003  7e-005  0.9721  1e-004   1  1  1 |  0  0\n",
      " 6  -5.368e+002  -5.368e+002  +2e-005  5e-007  6e-007  2e-004  7e-006  0.9123  1e-002   1  1  1 |  0  0\n",
      " 7  -5.368e+002  -5.368e+002  +3e-007  7e-009  9e-009  6e-006  1e-007  0.9890  4e-003   1  1  1 |  0  0\n",
      "\n",
      "OPTIMAL (within feastol=8.6e-009, reltol=4.9e-010, abstol=2.6e-007).\n",
      "Runtime: 0.001041 seconds.\n",
      "\n",
      "CVXPY solution = 4.72913427087\n",
      "optimal value = 12397.239595396693\n"
     ]
    }
   ],
   "source": [
    "# Variables and constants\n",
    "x = Variable()\n",
    "a, b, c = 24, -227, 12934\n",
    "\n",
    "# Construct the problem\n",
    "objective = Minimize(a*x**2 + b*x + c)\n",
    "constraints = [0 <= x]\n",
    "prob = Problem(objective, constraints)\n",
    "\n",
    "# Solve the problem (using default ECOS solver)\n",
    "sol = prob.solve(verbose = True)\n",
    "\n",
    "# Results\n",
    "xcvx = x.value.tolist();\n",
    "print('CVXPY solution =', xcvx)\n",
    "print(prob.status, 'value =', prob.value)"
   ]
  },
  {
   "cell_type": "markdown",
   "metadata": {},
   "source": [
    "## Comparison\n",
    "- **ERRORS**"
   ]
  },
  {
   "cell_type": "code",
   "execution_count": 12,
   "metadata": {
    "ExecuteTime": {
     "end_time": "2018-09-23T13:34:17.834000Z",
     "start_time": "2018-09-23T13:34:17.825000Z"
    }
   },
   "outputs": [
    {
     "name": "stdout",
     "output_type": "stream",
     "text": [
      "Error in the high school formula: 0\n",
      "Error in CVXPY: 3.23957985495227e-5\n"
     ]
    }
   ],
   "source": [
    "# absolute errors\n",
    "print(\"Error in the high school formula:\", np.abs(xa - xe))\n",
    "print(\"Error in CVXPY:\", np.abs(xcvx-xe))"
   ]
  },
  {
   "cell_type": "markdown",
   "metadata": {},
   "source": [
    "## 2. Time Series Toy Example - Model fitting: Double Ordinary Least Squares (DOOLSE)\n",
    "\n",
    "**Data**   \n",
    "We are given an 24-hours observation $X$ of a time series $X(t):$ \n",
    "\n",
    "```\n",
    "X = 39.2, 41.1, 40.0, 43.0, 38.8, 40.9, 37.7, 44.9,  \n",
    "    44.8, 40.6, 46.4, 47.6, 47.7, 47.3, 45.2, 52.7,\n",
    "    49.9, 43.8, 48.4, 43.4, 46.6, 43.5, 43.8, 41.9\n",
    "```\n",
    "\n",
    "**Modeling data - classical linear regression**  \n",
    "We fit data by a classical linear regression model in the form:  \n",
    "\n",
    "$X(t) = a + b\\cos\\left(\\frac{2\\pi}{24}\\, t\\right)+ c\\sin\\left(\\frac{2\\pi}{24}\\, t\\right)+\\varepsilon(t), t = 1,2,\\ldots,n$\n",
    "\n",
    "where \n",
    "\n",
    "- $a,b,c \\in \\mathbb{R} $ and $n=24$\n",
    "- $\\varepsilon(t)$ is a noise with variance $\\nu=\\sigma^2>0$\n",
    "\n",
    "**Estimator for variance $\\boldsymbol{\\nu}$** \n",
    "\n",
    "To estimate $\\nu=\\sigma^2$, we use *the DOuble Ordinary Least Squares Estimator (DOOLSE)*  \n",
    "which is the result of the following convex optimization problem:\n",
    "\n",
    "$ \\text{minimize }\\, f_0(\\nu)=||\\, \\mathrm{S}(X)-\\nu\\mathrm{I}\\, {||}^2, \\nu \\in \\mathbb{R} $  \n",
    "$\\text{subject to }\\, \\nu > 0$\n",
    "\n",
    "where\n",
    "\n",
    "- $||\\cdot||$ is the standard Euclidean matrix norm, $\\mathrm{I}$ is the $n\\times n$ identity matrix\n",
    "- $ \\mathrm{S}(X)$ is a matrix of the observation $X$ residuals determined by data $X$  \n",
    "and the ordinary least squares estimation of the time series trend $a + b\\cos\\left(\\frac{2\\pi}{24}\\, t\\right)+ c\\sin\\left(\\frac{2\\pi}{24}\\, t\\right)$\n",
    "\n",
    "\n",
    "**Note.** From the projection theory of vector (Hilbert) spaces, we know these important facts:\n",
    "\n",
    "- $\\mathrm{S}(X) = \\mathrm{M_F}\\, {XX}'\\, \\mathrm{M_F}$, where $\\mathrm{M_F} = \\mathrm{I} - \\mathrm{F}(\\mathrm{F'F})^{-1}\\mathrm{F'}$ and $\\mathrm{F}$ is a design model matrix\n",
    "- The DOOLSE optimization problem for $\\nu$ above has an analytical solution:  \n",
    "$\\hspace{2cm}\\hat{\\nu}= \\dfrac{1}{n} \\mathbf{tr} \\,{\\mathrm{S(X)}}$\n",
    "- If $X$ has a normal distribution, this DOOLSE estimator is equal to the maximum likelihood estimator (MLE).\n",
    "\n",
    "**Ref.** Štulajter, F. (2002). Predictions in Time Series Using Regression Models. New York: Springer."
   ]
  },
  {
   "cell_type": "markdown",
   "metadata": {},
   "source": [
    "## Analytical solution  "
   ]
  },
  {
   "cell_type": "code",
   "execution_count": 13,
   "metadata": {
    "ExecuteTime": {
     "end_time": "2018-09-23T13:34:53.952000Z",
     "start_time": "2018-09-23T13:34:53.944000Z"
    }
   },
   "outputs": [],
   "source": [
    "# Using numpy\n",
    "import numpy as np\n",
    "from math import sin,cos\n",
    "from numpy.linalg import inv, norm\n",
    "from __future__ import division\n",
    "from __future__ import print_function"
   ]
  },
  {
   "cell_type": "code",
   "execution_count": 14,
   "metadata": {
    "ExecuteTime": {
     "end_time": "2018-09-23T13:35:26.237000Z",
     "start_time": "2018-09-23T13:35:26.216000Z"
    }
   },
   "outputs": [],
   "source": [
    "# Model parameters and design matrix F\n",
    "n, om = 24, 2*np.pi/24\n",
    "\n",
    "Fc = np.mat([[1]*n, [cos(om*t) for t in range(1,n+1)],\n",
    "                    [sin(om*t) for t in range(1,n+1)]])\n",
    "\n",
    "F = Fc.T; I = np.identity(n)\n",
    "MF = I - F*inv(Fc*F)*Fc\n",
    "\n",
    "# Problem data X and residual matrix S(X)\n",
    "Xc = np.mat([39.2, 41.1, 40.0, 43.0, 38.8, 40.9, 37.7, 44.9, \n",
    "             44.8, 40.6, 46.4, 47.6, 47.7, 47.3, 45.2, 52.7,\n",
    "             49.9, 43.8, 48.4, 43.4, 46.6, 43.5, 43.8, 41.9])\n",
    "X = Xc.T\n",
    "SX = MF*X*X.T*MF\n",
    "\n",
    "# Solve the problem - analytic formula v = (1/n) tr S(X)\n",
    "va = (1/n)*np.trace(SX)"
   ]
  },
  {
   "cell_type": "code",
   "execution_count": 15,
   "metadata": {
    "ExecuteTime": {
     "end_time": "2018-09-23T13:35:41.176000Z",
     "start_time": "2018-09-23T13:35:41.169000Z"
    }
   },
   "outputs": [
    {
     "name": "stdout",
     "output_type": "stream",
     "text": [
      "Analytic DOOLSE = 4.738731006527846\n",
      "Optimal value for DOOLSE = 12395.475496830104\n"
     ]
    }
   ],
   "source": [
    "# Results\n",
    "print(\"Analytic DOOLSE =\", va)\n",
    "\n",
    "# Optimal value\n",
    "print(\"Optimal value for DOOLSE =\", norm(SX-va*I)**2)"
   ]
  },
  {
   "cell_type": "code",
   "execution_count": 17,
   "metadata": {
    "ExecuteTime": {
     "end_time": "2018-09-23T13:35:55.390000Z",
     "start_time": "2018-09-23T13:35:55.384000Z"
    }
   },
   "outputs": [],
   "source": [
    "# Using SymPy - exact analytic solution\n",
    "import sympy as sp"
   ]
  },
  {
   "cell_type": "code",
   "execution_count": 18,
   "metadata": {
    "ExecuteTime": {
     "end_time": "2018-09-23T13:36:53.127000Z",
     "start_time": "2018-09-23T13:36:31.592000Z"
    }
   },
   "outputs": [],
   "source": [
    "# Model parameters and design matrix F\n",
    "n, om = 24, 2*sp.pi/24\n",
    "\n",
    "Fc = sp.Matrix([[1]*n, [sp.cos(om*t) for t in range(1,n+1)],\n",
    "                       [sp.sin(om*t) for t in range(1,n+1)]])\n",
    "\n",
    "F = Fc.T; I = sp.eye(n)\n",
    "MF = (I - F*(Fc*F)**(-1)*Fc).expand()\n",
    "\n",
    "# Problem data and residual matrix S(X)\n",
    "Xfloat = sp.Matrix([39.2, 41.1, 40.0, 43.0, 38.8, 40.9, 37.7, 44.9, \n",
    "                     44.8, 40.6, 46.4, 47.6, 47.7, 47.3, 45.2, 52.7,\n",
    "                     49.9, 43.8, 48.4, 43.4, 46.6, 43.5, 43.8, 41.9])\n",
    "\n",
    "# Conversion data X to rationals\n",
    "X = sp.Matrix([sp.sympify(str(Xfloat[i]), rational=True) for i in range(n)])\n",
    "Xc = X.T\n",
    "SX = (MF*X*Xc*MF).expand()\n",
    "\n",
    "# Solve the problem - analytic formula, exact solution\n",
    "ve = sp.Rational(1,n)*np.trace(SX)"
   ]
  },
  {
   "cell_type": "code",
   "execution_count": 19,
   "metadata": {
    "ExecuteTime": {
     "end_time": "2018-09-23T13:37:06.912000Z",
     "start_time": "2018-09-23T13:37:06.902000Z"
    }
   },
   "outputs": [
    {
     "name": "stdout",
     "output_type": "stream",
     "text": [
      "Exact analytic DOOLSE = -1423*sqrt(3)/1152 - 24389*sqrt(6)/28800 - 40907*sqrt(2)/28800 + 63137/5760 = 4.7387310065278493224\n"
     ]
    }
   ],
   "source": [
    "# Results\n",
    "ven = sp.N(ve,20)  # conversion to float with 20 decimals\n",
    "print(\"Exact analytic DOOLSE =\", ve,\"=\", ven)"
   ]
  },
  {
   "cell_type": "markdown",
   "metadata": {},
   "source": [
    "## CVXPY solution"
   ]
  },
  {
   "cell_type": "code",
   "execution_count": 20,
   "metadata": {
    "ExecuteTime": {
     "end_time": "2018-09-23T13:37:16.654000Z",
     "start_time": "2018-09-23T13:37:16.647000Z"
    }
   },
   "outputs": [],
   "source": [
    "from cvxpy import *"
   ]
  },
  {
   "cell_type": "code",
   "execution_count": 21,
   "metadata": {
    "ExecuteTime": {
     "end_time": "2018-09-23T13:37:52.465000Z",
     "start_time": "2018-09-23T13:37:52.423000Z"
    }
   },
   "outputs": [
    {
     "name": "stdout",
     "output_type": "stream",
     "text": [
      "\n",
      "ECOS 2.0.4 - (C) embotech GmbH, Zurich Switzerland, 2012-15. Web: www.embotech.com/ECOS\n",
      "\n",
      "It     pcost       dcost      gap   pres   dres    k/t    mu     step   sigma     IR    |   BT\n",
      " 0  +0.000e+000  -1.037e+000  +2e+002  6e-001  4e-002  1e+000  4e+001    ---    ---    1  1  - |  -  - \n",
      " 1  +4.016e+002  +4.905e+002  +1e+002  2e+000  2e-001  1e+002  3e+001  0.5991  6e-001   1  1  1 |  0  0\n",
      " 2  +4.296e+002  +4.417e+002  +7e+000  2e-001  1e-002  1e+001  2e+000  0.9382  3e-003   2  1  1 |  0  0\n",
      " 3  +7.079e+002  +8.135e+002  +2e+000  4e-001  1e-002  1e+002  6e-001  0.9890  3e-001   2  1  1 |  0  0\n",
      " 4  +1.062e+003  +1.119e+003  +3e-001  1e-001  3e-003  6e+001  9e-002  0.8423  8e-003   2  1  1 |  0  0\n",
      " 5  +1.749e+003  +2.546e+003  +1e-001  5e-001  1e-002  8e+002  4e-002  0.9406  4e-001   3  2  2 |  0  0\n",
      " 6  +1.438e+003  +1.556e+003  +6e-002  1e-001  2e-003  1e+002  2e-002  0.8597  3e-001   3  2  1 |  0  0\n",
      " 7  +2.032e+003  +2.682e+003  +1e-002  1e-001  2e-003  7e+002  3e-003  0.8506  2e-002   2  2  3 |  0  0\n",
      " 8  +4.038e+003  +4.198e+003  +3e-003  3e-002  6e-004  2e+002  9e-004  0.8225  2e-001   4  2  2 |  0  0\n",
      " 9  +5.109e+003  +6.317e+003  +7e-004  4e-002  8e-004  1e+003  2e-004  0.9134  1e-001   4  2  2 |  0  0\n",
      "10  +7.985e+003  +8.237e+003  +2e-004  8e-003  2e-004  3e+002  5e-005  0.8979  2e-001   2  1  2 |  0  0\n",
      "11  +9.427e+003  +1.001e+004  +5e-005  7e-003  1e-004  6e+002  1e-005  0.7542  8e-002   3  2  2 |  0  0\n",
      "12  +1.117e+004  +1.129e+004  +1e-005  2e-003  3e-005  1e+002  4e-006  0.7811  8e-002   2  1  2 |  0  0\n",
      "13  +1.201e+004  +1.210e+004  +5e-006  8e-004  1e-005  9e+001  1e-006  0.7532  1e-001   3  2  2 |  0  0\n",
      "14  +1.227e+004  +1.229e+004  +1e-006  2e-004  3e-006  2e+001  3e-007  0.8126  2e-002   2  2  1 |  0  0\n",
      "15  +1.239e+004  +1.239e+004  +2e-007  2e-005  9e-007  1e+000  4e-008  0.8828  4e-002   4  1  1 |  0  0\n",
      "16  +1.239e+004  +1.239e+004  +2e-008  3e-006  7e-008  2e-001  6e-009  0.8644  6e-003   2  2  2 |  0  0\n",
      "17  +1.240e+004  +1.240e+004  +4e-009  6e-007  1e-007  1e-001  1e-009  0.9386  1e-001   2  1  1 |  0  0\n",
      "18  +1.240e+004  +1.240e+004  +4e-010  1e-006  2e-009  1e-002  1e-010  0.8997  2e-003   2  1  1 |  0  0\n",
      "19  +1.240e+004  +1.240e+004  +4e-011  4e-007  1e-008  1e-003  1e-011  0.9746  7e-002   2  1  1 |  0  0\n",
      "20  +1.240e+004  +1.240e+004  +2e-012  5e-006  2e-011  7e-005  8e-013  0.9372  5e-004   2  1  1 |  0  0\n",
      "21  +1.240e+004  +1.240e+004  +1e-013  1e-006  5e-010  4e-006  4e-014  0.9890  4e-002   2  1  1 |  0  0\n",
      "22  +1.240e+004  +1.240e+004  +2e-014  4e-007  8e-012  4e-008  5e-015  0.9890  1e-004   1  1  1 |  0  0\n",
      "23  +1.240e+004  +1.240e+004  +2e-014  6e-009  5e-013  5e-010  4e-015  0.9890  1e-004   1  1  1 |  0  0\n",
      "\n",
      "OPTIMAL (within feastol=5.9e-009, reltol=1.3e-018, abstol=1.6e-014).\n",
      "Runtime: 0.006437 seconds.\n",
      "\n",
      "DOOLSE = 4.7387306077\n",
      "optimal value for DOOLSE = 12395.47549600327\n"
     ]
    }
   ],
   "source": [
    "# Model parameters and design matrix F\n",
    "n, om = 24, 2*np.pi/24\n",
    "\n",
    "Fc = np.mat([[1]*n, [cos(om*t) for t in range(1,n+1)],\n",
    "                    [sin(om*t) for t in range(1,n+1)]])\n",
    "\n",
    "F = Fc.T; I = np.identity(n)\n",
    "MF = I - F*inv(Fc*F)*Fc\n",
    "\n",
    "# Problem data and residual matrix S(X)\n",
    "Xc = np.mat([39.2, 41.1, 40.0, 43.0, 38.8, 40.9, 37.7, 44.9, \n",
    "             44.8, 40.6, 46.4, 47.6, 47.7, 47.3, 45.2, 52.7,\n",
    "             49.9, 43.8, 48.4, 43.4, 46.6, 43.5, 43.8, 41.9])\n",
    "X = Xc.T\n",
    "SX = MF*X*Xc*MF\n",
    "\n",
    "# Variables for the objective in DOOLSE\n",
    "v = Variable()\n",
    "\n",
    "# Construct the problem for DOOLSE\n",
    "objective = Minimize(sum_squares(SX-v*I))\n",
    "constraints = [0 <= v]\n",
    "prob = Problem(objective, constraints)\n",
    "\n",
    "# Solution for DOOLSE\n",
    "prob.solve(verbose = True)\n",
    "\n",
    "vcvx = v.value.tolist();\n",
    "\n",
    "print('DOOLSE =', vcvx)\n",
    "print(prob.status, 'value for DOOLSE =', prob.value)"
   ]
  },
  {
   "cell_type": "markdown",
   "metadata": {},
   "source": [
    "## Comparison\n",
    "- **ERRORS**"
   ]
  },
  {
   "cell_type": "code",
   "execution_count": 23,
   "metadata": {
    "ExecuteTime": {
     "end_time": "2018-09-23T13:39:05.423000Z",
     "start_time": "2018-09-23T13:39:05.416000Z"
    }
   },
   "outputs": [
    {
     "name": "stdout",
     "output_type": "stream",
     "text": [
      "error in analytic DOOLSE: 3.03232374106177e-15\n",
      "error in CVXPY DOOLSE: 3.98826223969889e-7\n"
     ]
    }
   ],
   "source": [
    "# absolute errors\n",
    "print(\"error in analytic DOOLSE:\", np.abs(va - ven).n())\n",
    "print(\"error in CVXPY DOOLSE:\", np.abs(vcvx - ven).n())"
   ]
  }
 ],
 "metadata": {
  "kernelspec": {
   "display_name": "Python 2",
   "language": "python",
   "name": "python2"
  },
  "language_info": {
   "codemirror_mode": {
    "name": "ipython",
    "version": 2
   },
   "file_extension": ".py",
   "mimetype": "text/x-python",
   "name": "python",
   "nbconvert_exporter": "python",
   "pygments_lexer": "ipython2",
   "version": "2.7.14"
  },
  "varInspector": {
   "cols": {
    "lenName": 16,
    "lenType": 16,
    "lenVar": 40
   },
   "kernels_config": {
    "python": {
     "delete_cmd_postfix": "",
     "delete_cmd_prefix": "del ",
     "library": "var_list.py",
     "varRefreshCmd": "print(var_dic_list())"
    },
    "r": {
     "delete_cmd_postfix": ") ",
     "delete_cmd_prefix": "rm(",
     "library": "var_list.r",
     "varRefreshCmd": "cat(var_dic_list()) "
    }
   },
   "types_to_exclude": [
    "module",
    "function",
    "builtin_function_or_method",
    "instance",
    "_Feature"
   ],
   "window_display": false
  }
 },
 "nbformat": 4,
 "nbformat_minor": 1
}
